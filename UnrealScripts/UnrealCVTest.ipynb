{
 "cells": [
  {
   "cell_type": "code",
   "execution_count": 1,
   "id": "86e056b0",
   "metadata": {},
   "outputs": [],
   "source": [
    "import sys\n",
    "\n",
    "sys.path.append(\"/home/ajc/UE4/unrealcv/client/python\")\n",
    "from unrealcv import client"
   ]
  },
  {
   "cell_type": "code",
   "execution_count": 2,
   "id": "df4e4236",
   "metadata": {},
   "outputs": [
    {
     "name": "stderr",
     "output_type": "stream",
     "text": [
      "INFO:__init__:211:Got connection confirm: b'connected to Maze'\n"
     ]
    }
   ],
   "source": [
    "client.connect()\n",
    "\n",
    "if not client.isconnected():\n",
    "    print(\"UnrealCV server is not running.\")"
   ]
  },
  {
   "cell_type": "code",
   "execution_count": 4,
   "id": "13c0c85f",
   "metadata": {},
   "outputs": [
    {
     "name": "stderr",
     "output_type": "stream",
     "text": [
      "ERROR:__init__:336:Can not receive a response from server, timeout after 5.00 seconds\n"
     ]
    },
    {
     "name": "stdout",
     "output_type": "stream",
     "text": [
      "None\n"
     ]
    }
   ],
   "source": [
    "# filename = client.request(\"vget /camera/0/lit\")\n",
    "# filename = client.request(\"vget /camera/0/depth depth.exr\")\n",
    "\n",
    "# print(client.request(\"vget /unrealcv/status\"))\n",
    "print(client.request(\"vget /unrealcv/help\"))"
   ]
  },
  {
   "cell_type": "code",
   "execution_count": 3,
   "id": "50aab554",
   "metadata": {},
   "outputs": [
    {
     "name": "stderr",
     "output_type": "stream",
     "text": [
      "ERROR:__init__:336:Can not receive a response from server, timeout after 5.00 seconds\n"
     ]
    }
   ],
   "source": [
    "client.request(\"vget /camera/0/lit\")"
   ]
  },
  {
   "cell_type": "code",
   "execution_count": null,
   "id": "e27cf792",
   "metadata": {},
   "outputs": [],
   "source": [
    "# Camera should be at (x, y, z)\n",
    "# x = \n",
    "# y = \n",
    "# z = 100\n",
    "\n",
    "\n",
    "# x (subtract 50 to put in middle of hallway)\n",
    "# 0-> 1050\n",
    "# 0.5 -> 1000\n",
    "# middle -> 50\n",
    "# middle of middle hall -> 100\n",
    "# last cell ->\n",
    "# middle of last wall -> -1000\n",
    "\n",
    "# y (subtract 50)\n",
    "# 0 -> -1050\n",
    "# 0.5 -> -1000\n",
    "# middle -> -50\n",
    "# middle of middle hall -> -100\n",
    "\n",
    "# z is always 100\n",
    "\n",
    "# only rotate around z axis (probably yaw?)\n",
    "\n",
    "# vset /camera/[id]/pose [x] [y] [z] [pitch] [yaw] [roll]\n",
    "#     (v0.3.10) Teleport camera to location [x, y, z] and rotation [pitch, yaw, roll]"
   ]
  }
 ],
 "metadata": {
  "kernelspec": {
   "display_name": "Python 3",
   "language": "python",
   "name": "python3"
  },
  "language_info": {
   "codemirror_mode": {
    "name": "ipython",
    "version": 3
   },
   "file_extension": ".py",
   "mimetype": "text/x-python",
   "name": "python",
   "nbconvert_exporter": "python",
   "pygments_lexer": "ipython3",
   "version": "3.9.5"
  }
 },
 "nbformat": 4,
 "nbformat_minor": 5
}
